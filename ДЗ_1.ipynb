{
  "nbformat": 4,
  "nbformat_minor": 0,
  "metadata": {
    "colab": {
      "name": "ДЗ 1.ipynb",
      "provenance": [],
      "collapsed_sections": []
    },
    "kernelspec": {
      "name": "python3",
      "display_name": "Python 3"
    },
    "language_info": {
      "name": "python"
    }
  },
  "cells": [
    {
      "cell_type": "markdown",
      "metadata": {
        "id": "rc8zNLBfKtd4"
      },
      "source": [
        "Задача 1\n",
        "Создайте переменную a = 10, возвести значение в 3 степень и найти остаток от деления на 3."
      ]
    },
    {
      "cell_type": "code",
      "metadata": {
        "colab": {
          "base_uri": "https://localhost:8080/"
        },
        "id": "RZDNnn61Kvx_",
        "outputId": "edc46b4a-1ae8-4345-810c-d27d4d71380b"
      },
      "source": [
        "a=10\n",
        "(a**3) % 3"
      ],
      "execution_count": 1,
      "outputs": [
        {
          "output_type": "execute_result",
          "data": {
            "text/plain": [
              "1"
            ]
          },
          "metadata": {},
          "execution_count": 1
        }
      ]
    },
    {
      "cell_type": "markdown",
      "metadata": {
        "id": "TzJPadS6K0s5"
      },
      "source": [
        "Задача 2\n",
        "Найдите площадь круга с радиусом 1.23456.\n",
        "\n",
        "(Считаем π = 3.14)"
      ]
    },
    {
      "cell_type": "code",
      "metadata": {
        "colab": {
          "base_uri": "https://localhost:8080/"
        },
        "id": "sU2jcJeYK43Z",
        "outputId": "cb4fb08c-5162-4075-98aa-699289ca53fe"
      },
      "source": [
        "pi=3.14\n",
        "r=1.23456\n",
        "pi*r**2"
      ],
      "execution_count": 2,
      "outputs": [
        {
          "output_type": "execute_result",
          "data": {
            "text/plain": [
              "4.785794555904"
            ]
          },
          "metadata": {},
          "execution_count": 2
        }
      ]
    },
    {
      "cell_type": "markdown",
      "metadata": {
        "id": "6iwyV7ScK5j7"
      },
      "source": [
        "Задача 3\n",
        "Найдите, истинно ли, что 2 в 10 степени больше 1000 при условии, что 4 в 7й степени меньше 8 в 5й."
      ]
    },
    {
      "cell_type": "code",
      "metadata": {
        "colab": {
          "base_uri": "https://localhost:8080/"
        },
        "id": "L1GToX8IK89t",
        "outputId": "bb653adb-260b-49b8-dce9-2ee5a28323e7"
      },
      "source": [
        "(2**10 > 1000) and (4**7 < 8**5)"
      ],
      "execution_count": 3,
      "outputs": [
        {
          "output_type": "execute_result",
          "data": {
            "text/plain": [
              "True"
            ]
          },
          "metadata": {},
          "execution_count": 3
        }
      ]
    },
    {
      "cell_type": "markdown",
      "metadata": {
        "id": "z7sj-BktK9cn"
      },
      "source": [
        "Задача 4\n",
        "Мы принимаем целое число на ввод с клавиатуры (код предоставлен), вывести \"цена выше рынка\", если число выше 1200, \"цена ниже рыночной\", если число меньше 800 и \"все ок\" в остальных случаях."
      ]
    },
    {
      "cell_type": "code",
      "metadata": {
        "colab": {
          "base_uri": "https://localhost:8080/"
        },
        "id": "pD8y3cj2LAwk",
        "outputId": "6154bc56-ac58-4de6-a7a6-2281601eff57"
      },
      "source": [
        "price = int(input('Введите цену товара: '))\n",
        "if price> 1200:\n",
        "    print(\"цена выше рынка\")\n",
        "elif price<800:\n",
        "    print(\"цена ниже рыночной\")\n",
        "else:\n",
        "    print(\"все ок\")"
      ],
      "execution_count": 4,
      "outputs": [
        {
          "output_type": "stream",
          "name": "stdout",
          "text": [
            "Введите цену товара: 1300\n",
            "цена выше рынка\n"
          ]
        }
      ]
    },
    {
      "cell_type": "markdown",
      "metadata": {
        "id": "zwGPXNVrLBwm"
      },
      "source": [
        "Задача 5\n",
        "Распечатайте с 4 по 8 символ фразы \"Привет мир!\" приведенные к верхнему регистру."
      ]
    },
    {
      "cell_type": "code",
      "metadata": {
        "colab": {
          "base_uri": "https://localhost:8080/"
        },
        "id": "by3bsNCwLFua",
        "outputId": "da908b90-e465-4d54-9a03-2cd1c37b640c"
      },
      "source": [
        "st=\"Привет мир!\".upper()\n",
        "print(st[3:8])"
      ],
      "execution_count": 6,
      "outputs": [
        {
          "output_type": "stream",
          "name": "stdout",
          "text": [
            "ВЕТ М\n"
          ]
        }
      ]
    },
    {
      "cell_type": "markdown",
      "metadata": {
        "id": "oreZE14iLGIB"
      },
      "source": [
        "Задача 6\n",
        "Создайте переменную, которая хранит описание этой задачи как строку, разделите слова по пробелам и приведите к нижнему регистру."
      ]
    },
    {
      "cell_type": "code",
      "metadata": {
        "colab": {
          "base_uri": "https://localhost:8080/"
        },
        "id": "aJOHGasMLJuF",
        "outputId": "1f781472-f08e-4440-f4ab-e79d8e0e57d4"
      },
      "source": [
        "st1='Создайте переменную, которая хранит описание этой задачи как строку, разделите слова по пробелам и приведите к нижнему регистру.'\n",
        "st1.lower().split()"
      ],
      "execution_count": 7,
      "outputs": [
        {
          "output_type": "execute_result",
          "data": {
            "text/plain": [
              "['создайте',\n",
              " 'переменную,',\n",
              " 'которая',\n",
              " 'хранит',\n",
              " 'описание',\n",
              " 'этой',\n",
              " 'задачи',\n",
              " 'как',\n",
              " 'строку,',\n",
              " 'разделите',\n",
              " 'слова',\n",
              " 'по',\n",
              " 'пробелам',\n",
              " 'и',\n",
              " 'приведите',\n",
              " 'к',\n",
              " 'нижнему',\n",
              " 'регистру.']"
            ]
          },
          "metadata": {},
          "execution_count": 7
        }
      ]
    },
    {
      "cell_type": "markdown",
      "metadata": {
        "id": "XZd819ppLKOT"
      },
      "source": [
        "Задание 7\n",
        "Напишите код, который проверяет, является ли переменная x строкой, и если да, то если в строке больше одного слова (слово--последовательность подряд идущих символов без пробелов), то выводит на экран количество слов в этой строке и сами слова в алфавитном порядке."
      ]
    },
    {
      "cell_type": "code",
      "metadata": {
        "colab": {
          "base_uri": "https://localhost:8080/"
        },
        "id": "KmvaUSbpLOCv",
        "outputId": "a894ea84-ecac-44ed-c50c-2b589600316a"
      },
      "source": [
        "x = 'z hello world'\n",
        "# В ходе проверки я могу в вести в переменную любой другой текст.\n",
        "# Или не текст.\n",
        "if isinstance(x, str):\n",
        "    if len(x.split())>1:\n",
        "         print(len(x.split()))\n",
        "         print(sorted(x.split()))"
      ],
      "execution_count": 8,
      "outputs": [
        {
          "output_type": "stream",
          "name": "stdout",
          "text": [
            "3\n",
            "['hello', 'world', 'z']\n"
          ]
        }
      ]
    },
    {
      "cell_type": "markdown",
      "metadata": {
        "id": "X_llVqU6LOZp"
      },
      "source": [
        "Задание 8\n",
        "Напишите код, который все элементы массива x с нечетными индексами переставит в обратном порядке.\n",
        "\n",
        "Т.е. если x = [0, 1, 2, 3, 4, 5, 6, 7, 8, 9], то код должен получать [0, 9, 2, 7, 4, 5, 6, 3, 8, 1]"
      ]
    },
    {
      "cell_type": "code",
      "metadata": {
        "colab": {
          "base_uri": "https://localhost:8080/"
        },
        "id": "qbmQZXCmLTCy",
        "outputId": "f8b4a651-7618-4e13-8cef-7487540ee1b6"
      },
      "source": [
        "x = [0, 1, 2, 3, 4, 5, 6, 7, 8, 9]\n",
        "\n",
        "[sim for p in list(zip(x[0:10:2], sorted(x[1:11:2],reverse=True))) for sim in p]"
      ],
      "execution_count": 10,
      "outputs": [
        {
          "output_type": "execute_result",
          "data": {
            "text/plain": [
              "[0, 9, 2, 7, 4, 5, 6, 3, 8, 1]"
            ]
          },
          "metadata": {},
          "execution_count": 10
        }
      ]
    },
    {
      "cell_type": "markdown",
      "metadata": {
        "id": "YtlzdxPsLTXb"
      },
      "source": [
        "Задание 9\n",
        "Напишите цикл, который выводит все числа от 0 до 500, делящиеся на 7, если в них есть цифра 8.\n",
        "\n",
        "Подсказка: переменную типа int можно привести к типу str:\n",
        "\n",
        "x = 5\n",
        "y = str(x)"
      ]
    },
    {
      "cell_type": "code",
      "metadata": {
        "colab": {
          "base_uri": "https://localhost:8080/"
        },
        "id": "2o2_PErlLYtT",
        "outputId": "b6e505d8-8498-4bfa-a634-dd0b8e3c0721"
      },
      "source": [
        "for i in range(500):\n",
        "  if i%7==0:\n",
        "      if str(i).count(\"8\")>=1:\n",
        "          print(i)"
      ],
      "execution_count": 11,
      "outputs": [
        {
          "output_type": "stream",
          "name": "stdout",
          "text": [
            "28\n",
            "84\n",
            "98\n",
            "168\n",
            "182\n",
            "189\n",
            "238\n",
            "280\n",
            "287\n",
            "308\n",
            "378\n",
            "385\n",
            "448\n",
            "483\n"
          ]
        }
      ]
    },
    {
      "cell_type": "markdown",
      "metadata": {
        "id": "ClUPkbfPMomP"
      },
      "source": [
        "Задание 10\n",
        "Создайте список a, состоящий из каких-то элементов.\n",
        "Создайте список b такого же размера, как a, состоящий из каких-то элементов.\n",
        "Выведите нумерованный список пар из элементов списков a и b."
      ]
    },
    {
      "cell_type": "code",
      "metadata": {
        "colab": {
          "base_uri": "https://localhost:8080/"
        },
        "id": "HaFGthF3MpsB",
        "outputId": "3aad1eb2-d93f-40c1-de4b-350e3ed53cfb"
      },
      "source": [
        "a=['x','y','z']\n",
        "b=['123','456','789']\n",
        "list(zip(a, b))"
      ],
      "execution_count": 12,
      "outputs": [
        {
          "output_type": "execute_result",
          "data": {
            "text/plain": [
              "[('x', '123'), ('y', '456'), ('z', '789')]"
            ]
          },
          "metadata": {},
          "execution_count": 12
        }
      ]
    },
    {
      "cell_type": "markdown",
      "metadata": {
        "id": "lhS1TgUFMqV0"
      },
      "source": [
        "Задание 11\n",
        "Дан массив строк mas. Одной строкой создайте словарь, в котором по ключу строки будет записана пара (кортеж длины 2) (индекс строки в массиве mas, длина строки)"
      ]
    },
    {
      "cell_type": "code",
      "metadata": {
        "colab": {
          "base_uri": "https://localhost:8080/"
        },
        "id": "X27IoQi8NEwc",
        "outputId": "65bf2354-c63d-4834-d4ab-9473121165fa"
      },
      "source": [
        "mas=['abc','iklmn','yyyyyyyyy']\n",
        "d={}\n",
        "for i in range(len(mas)): d[mas[i]]=[i,len(mas[i])]\n",
        "print(d)"
      ],
      "execution_count": 13,
      "outputs": [
        {
          "output_type": "stream",
          "name": "stdout",
          "text": [
            "{'abc': [0, 3], 'iklmn': [1, 5], 'yyyyyyyyy': [2, 9]}\n"
          ]
        }
      ]
    },
    {
      "cell_type": "markdown",
      "metadata": {
        "id": "Lsh449TiNI2B"
      },
      "source": [
        "Задание 12\n",
        "Релизовать функцию, которая возвращает сумму всех позиционных и именованных аргументов."
      ]
    },
    {
      "cell_type": "code",
      "metadata": {
        "colab": {
          "base_uri": "https://localhost:8080/"
        },
        "id": "lKIrGO7uNJth",
        "outputId": "4f497b31-b898-4679-d7dd-3260fc38ab70"
      },
      "source": [
        "def func(x,y,z,a=4, b=5):\n",
        "    return x + y + z +a + b\n",
        "\n",
        "print(func(1, 2, 3, a=4, b=5))"
      ],
      "execution_count": 14,
      "outputs": [
        {
          "output_type": "stream",
          "name": "stdout",
          "text": [
            "15\n"
          ]
        }
      ]
    },
    {
      "cell_type": "markdown",
      "metadata": {
        "id": "FhC5vCWXNTIb"
      },
      "source": [
        "Задание 13\n",
        "Реализовать функцию, которая сохраняет в 2 глобальные переменные:\n",
        "\n",
        "сумму всех позиционных аргументов - релизовать через lambda;\n",
        "название всех именованных аргументов в виде списка."
      ]
    },
    {
      "cell_type": "code",
      "metadata": {
        "colab": {
          "base_uri": "https://localhost:8080/"
        },
        "id": "KhzxkgWHNUCF",
        "outputId": "3d233271-5b33-4a88-854d-d5ff5271e2fc"
      },
      "source": [
        "summ = 0\n",
        "names = []\n",
        "\n",
        "def another_func(x, y, z, **kwargs):\n",
        "    global summ\n",
        "    ssss = lambda k, l, m: k + l + m\n",
        "    summ= ssss(x,y,z)\n",
        "    global names\n",
        "    names=list(kwargs.keys())\n",
        "    return summ, names\n",
        "\n",
        "another_func(1, 2, 3, a=4, b=5)\n",
        "\n",
        "print(f'Cумма {summ}, названия {names}')"
      ],
      "execution_count": 15,
      "outputs": [
        {
          "output_type": "stream",
          "name": "stdout",
          "text": [
            "Cумма 6, названия ['a', 'b']\n"
          ]
        }
      ]
    },
    {
      "cell_type": "markdown",
      "metadata": {
        "id": "pPJNLCrLNanu"
      },
      "source": [
        "Задание 14\n",
        "Реализовать класс с 2 функциями:\n",
        "\n",
        "Первая функция копирует функционал задачи №13, но сохраняет переменные в области видимости класса;\n",
        "Вторая функция отображает на экран сумму и названия именованных аргументов."
      ]
    },
    {
      "cell_type": "code",
      "metadata": {
        "colab": {
          "base_uri": "https://localhost:8080/"
        },
        "id": "zQMGg8__NbrO",
        "outputId": "e124d3c1-62af-4395-c6d9-e70f5e62771a"
      },
      "source": [
        "class Solution():\n",
        "    def __init__(self):\n",
        "        self.summ1 = 0\n",
        "        self.names1= []\n",
        "\n",
        "    def another_func(self, x, y, z, **kwargs):\n",
        "        ssss = lambda k, l, m: k + l + m\n",
        "        self.summ1 = ssss(x, y, z)\n",
        "        self.names1=list(kwargs.keys())\n",
        "        #print(f'Cумма {summ1}, названия {names1}')\n",
        "             \n",
        "    def print_args_kwargs(self):\n",
        "        summ1=self.summ1\n",
        "        names1=self.names1\n",
        "        return print(f'Cумма {summ1}, названия {names1}')\n",
        "\n",
        "class_obj = Solution()\n",
        "class_obj.another_func(1, 2, 3, a=4, b=5)\n",
        "class_obj.print_args_kwargs()"
      ],
      "execution_count": 16,
      "outputs": [
        {
          "output_type": "stream",
          "name": "stdout",
          "text": [
            "Cумма 6, названия ['a', 'b']\n"
          ]
        }
      ]
    },
    {
      "cell_type": "markdown",
      "metadata": {
        "id": "WdExsZgxaXU0"
      },
      "source": [
        "Доп задания на закрепление материала"
      ]
    },
    {
      "cell_type": "code",
      "metadata": {
        "id": "NPKAtj_Iazyv"
      },
      "source": [
        "# загрузим библиотеки\n",
        "import numpy as np\n",
        "import pandas as pd"
      ],
      "execution_count": 17,
      "outputs": []
    },
    {
      "cell_type": "markdown",
      "metadata": {
        "id": "oM8h85r4bAiW"
      },
      "source": [
        "Задание 1\n",
        "Создайте массив массив из 100 элементов (от 1 до 100), переформатируйте в формат (10 * 10), сделайте слайсинг с шагом 2 по каждой оси."
      ]
    },
    {
      "cell_type": "code",
      "metadata": {
        "colab": {
          "base_uri": "https://localhost:8080/"
        },
        "id": "y51UzCt7bDMG",
        "outputId": "75beba95-27f8-4988-a542-b191209b2678"
      },
      "source": [
        "mmm=np.arange(100)\n",
        "mmm1=mmm.reshape((10, 10))\n",
        "for i in range(0,10,2):\n",
        "    print(mmm1[i,1::2])"
      ],
      "execution_count": 18,
      "outputs": [
        {
          "output_type": "stream",
          "name": "stdout",
          "text": [
            "[1 3 5 7 9]\n",
            "[21 23 25 27 29]\n",
            "[41 43 45 47 49]\n",
            "[61 63 65 67 69]\n",
            "[81 83 85 87 89]\n"
          ]
        }
      ]
    },
    {
      "cell_type": "markdown",
      "metadata": {
        "id": "laK18jfqbIvw"
      },
      "source": [
        "Задание 2\n",
        "Написать функцию, которая по заданной длине последовательности находит среднее арифметическое ее членов.\n",
        "\n",
        "Реализуйте задачу с и без помощи numpy, сравните время выполнения"
      ]
    },
    {
      "cell_type": "code",
      "metadata": {
        "colab": {
          "base_uri": "https://localhost:8080/"
        },
        "id": "i71ZUEhYbKKO",
        "outputId": "b5341af6-2a55-46e3-9e28-08c13f8ac310"
      },
      "source": [
        "# решение с использованием numpy\n",
        "# для оценки времени исоплнения блока\n",
        "%%time\n",
        "# зададим длину нашей последовательности\n",
        "dlina_posl = 100_000_000\n",
        "\n",
        "# ваш код тут\n",
        "np.arange(dlina_posl).mean()"
      ],
      "execution_count": 19,
      "outputs": [
        {
          "output_type": "stream",
          "name": "stdout",
          "text": [
            "CPU times: user 209 ms, sys: 271 ms, total: 480 ms\n",
            "Wall time: 480 ms\n"
          ]
        }
      ]
    },
    {
      "cell_type": "code",
      "metadata": {
        "colab": {
          "base_uri": "https://localhost:8080/"
        },
        "id": "lw9sTEChbRRD",
        "outputId": "666cdd1c-cc9b-4240-b229-963dd1882ceb"
      },
      "source": [
        "# решение без использования numpy\n",
        "# для оценки времени исоплнения блока\n",
        "%%time\n",
        "\n",
        "# ваш код тут\n",
        "sm=0\n",
        "for i in range(dlina_posl):\n",
        "    sm+=i\n",
        "print('Среднее арифметическое последовательности ',sm/dlina_posl)"
      ],
      "execution_count": 20,
      "outputs": [
        {
          "output_type": "stream",
          "name": "stdout",
          "text": [
            "Среднее арифметическое последовательности  49999999.5\n",
            "CPU times: user 13.3 s, sys: 0 ns, total: 13.3 s\n",
            "Wall time: 13.4 s\n"
          ]
        }
      ]
    },
    {
      "cell_type": "markdown",
      "metadata": {
        "id": "ukd2knYEbOQ4"
      },
      "source": [
        ""
      ]
    },
    {
      "cell_type": "markdown",
      "metadata": {
        "id": "z5weT_subang"
      },
      "source": [
        "Задание 3\n",
        "Задан Series объект s, найти индекс первого элемента отсортированного s, где значения больше 5"
      ]
    },
    {
      "cell_type": "code",
      "metadata": {
        "colab": {
          "base_uri": "https://localhost:8080/"
        },
        "id": "8IWJrarWbbrW",
        "outputId": "0f684dcb-2050-4ee0-ae1d-066cc4978b5a"
      },
      "source": [
        "# задано изначально\n",
        "r = np.random.RandomState(1)\n",
        "s=pd.Series(r.uniform(0, 10, 100))\n",
        "\n",
        "s= s.sort_values()\n",
        "ind=list(s.index)\n",
        "i=0\n",
        "while  s[ind[i]]<5:\n",
        "    i+=1\n",
        "\n",
        "print(ind[i], s[ind[i]])"
      ],
      "execution_count": 21,
      "outputs": [
        {
          "output_type": "stream",
          "name": "stdout",
          "text": [
            "67 5.148891120583086\n"
          ]
        }
      ]
    },
    {
      "cell_type": "markdown",
      "metadata": {
        "id": "wpidL9NNbfAL"
      },
      "source": [
        "Задание 4\n",
        "Предположим, что мы наблюдаем за некоторым признаком нашего датасета, но в данных есть пропуски. Ваша задача: реализовать алгоритм заполнения пропущенных значений последним известным с помощью средств python и pandas. (подсказка: вам может помочь функция np.isnan(), которая возвращает True, если число - nan. Для реализации с пандас стоит посмотреть на метод .fillna).\n",
        "\n",
        "Изначальный код с инициализацией такого датасета предоставлен."
      ]
    },
    {
      "cell_type": "code",
      "metadata": {
        "colab": {
          "base_uri": "https://localhost:8080/",
          "height": 283
        },
        "id": "L0YCaIxdbh68",
        "outputId": "1458050f-7bac-4541-be5f-93b3f4c79cc1"
      },
      "source": [
        "# импортируем библиотеку для создания шума\n",
        "import random\n",
        "# библиотека для визуализации\n",
        "import matplotlib.pyplot as plt\n",
        "\n",
        "# создадим наши данные и добавим к каждой точке синусоиды случайный шум\n",
        "a = np.linspace(0, 25, 100)\n",
        "a = np.sin(a) + [random.gauss(0, 0.2) for i in range(len(a))]\n",
        "\n",
        "# создадим 10 случайных пропусков\n",
        "for i in range(10):\n",
        "    a[random.randint(0, len(a) - 1)] = None\n",
        "# создадим датафрейм\n",
        "df = pd.DataFrame({'target':a})\n",
        "\n",
        "# ваш код тут\n",
        "k=df['target'][0]\n",
        "for i in range(1,len(df['target'])):\n",
        "    if  np.isnan(df['target'][i])==True:\n",
        "        df=df.fillna(k, limit = 1)\n",
        "    k=df['target'][i]\n",
        "# отобразим\n",
        "plt.plot(df.target.values)"
      ],
      "execution_count": 22,
      "outputs": [
        {
          "output_type": "execute_result",
          "data": {
            "text/plain": [
              "[<matplotlib.lines.Line2D at 0x7fc14d75bf10>]"
            ]
          },
          "metadata": {},
          "execution_count": 22
        },
        {
          "output_type": "display_data",
          "data": {
            "image/png": "[encoded data removed]",
            "text/plain": [
              "<Figure size 432x288 with 1 Axes>"
            ]
          },
          "metadata": {
            "needs_background": "light"
          }
        }
      ]
    },
    {
      "cell_type": "markdown",
      "metadata": {
        "id": "awwDzHdpbmVt"
      },
      "source": [
        "Задание 5\n",
        "Имеется небольшой игрушечный датафрейм, в котором необходимо провести несколько типов фильтраций (ответы ищите в решениях) и отобразить результат:\n",
        "\n",
        "всех, кто старше 40\n",
        "\n",
        "всех, кто имеет доход выше среднего по датасету\n",
        "\n",
        "всех, кто имеет доход выше среднего по датасету, но надежность ниже среднего по датасету\n",
        "создать новые столбцы:\n",
        "\n",
        "важность клиента = доход * надежность\n",
        "\n",
        "возможная долгосрочность клиента = важность клиента * (средний возраст по датасету - возраст клиента)\n",
        "подсказка: двойные условия записываются так: (условие 1) & (условие 2)\n",
        "\n",
        "** примечание: столбцы не имеют отношения к реальным формулам или моделям, они необходимы только для наглядности"
      ]
    },
    {
      "cell_type": "code",
      "metadata": {
        "colab": {
          "base_uri": "https://localhost:8080/"
        },
        "id": "whoiiiq8brNR",
        "outputId": "a633995d-e9f5-4e25-e7d7-1f78b5eb3be0"
      },
      "source": [
        "# создадим тестовый датасет\n",
        "df = pd.DataFrame({\n",
        "    'имя': ['Петя', 'Вася', 'Аня', 'Света'],\n",
        "    'возраст': [45, 26, 41 , 21],\n",
        "    'доход': [100000, 80000, 150000, 60000],\n",
        "    'надежность клиента (0..1)': [0.65, 0.74, 0.87, 0.68],\n",
        "    'пол': ['муж', 'муж', 'жен', 'жен']},\n",
        "    index=[0, 1, 2, 3])\n",
        "\n",
        "# ваш код тут\n",
        "df1=df[df['возраст']>40]\n",
        "print('___Кто старше 40','\\n', df1,'\\n')\n",
        "\n",
        "df2=df[df['доход']>df['доход'].mean()]\n",
        "print('___Доход выше среднего','\\n', df2,'\\n')\n",
        "\n",
        "df3=df[(df['доход']>df['доход'].mean()) & (df['надежность клиента (0..1)']<df['надежность клиента (0..1)'].mean()) ]\n",
        "print('___Доход выше - надежность ниже','\\n', df3,'\\n')\n",
        "\n",
        "df['важность']= df['доход'] * df['надежность клиента (0..1)']\n",
        "print('___Важность','\\n',df,'\\n')\n",
        "\n",
        "df['долгосрочность']= df['важность'] * (df['возраст'].mean() - df['возраст'])\n",
        "print('___Долгосрочность','\\n',df,'\\n')"
      ],
      "execution_count": 23,
      "outputs": [
        {
          "output_type": "stream",
          "name": "stdout",
          "text": [
            "___Кто старше 40 \n",
            "     имя  возраст   доход  надежность клиента (0..1)  пол\n",
            "0  Петя       45  100000                       0.65  муж\n",
            "2   Аня       41  150000                       0.87  жен \n",
            "\n",
            "___Доход выше среднего \n",
            "     имя  возраст   доход  надежность клиента (0..1)  пол\n",
            "0  Петя       45  100000                       0.65  муж\n",
            "2   Аня       41  150000                       0.87  жен \n",
            "\n",
            "___Доход выше - надежность ниже \n",
            "     имя  возраст   доход  надежность клиента (0..1)  пол\n",
            "0  Петя       45  100000                       0.65  муж \n",
            "\n",
            "___Важность \n",
            "      имя  возраст   доход  надежность клиента (0..1)  пол  важность\n",
            "0   Петя       45  100000                       0.65  муж   65000.0\n",
            "1   Вася       26   80000                       0.74  муж   59200.0\n",
            "2    Аня       41  150000                       0.87  жен  130500.0\n",
            "3  Света       21   60000                       0.68  жен   40800.0 \n",
            "\n",
            "___Долгосрочность \n",
            "      имя  возраст   доход  ...  пол  важность  долгосрочность\n",
            "0   Петя       45  100000  ...  муж   65000.0       -763750.0\n",
            "1   Вася       26   80000  ...  муж   59200.0        429200.0\n",
            "2    Аня       41  150000  ...  жен  130500.0      -1011375.0\n",
            "3  Света       21   60000  ...  жен   40800.0        499800.0\n",
            "\n",
            "[4 rows x 7 columns] \n",
            "\n"
          ]
        }
      ]
    },
    {
      "cell_type": "markdown",
      "metadata": {
        "id": "9MusDjDebukb"
      },
      "source": [
        "Задание 6\n",
        "Посмотрите на блок Exploratory data analysis, используйте данные, кототрые вы загрузили в ходе его освоения. Ваша задача - вывести имена всех выживших детей и их количество"
      ]
    },
    {
      "cell_type": "code",
      "metadata": {
        "id": "OPy1sxfabx4t"
      },
      "source": [
        "data = pd.read_csv('https://web.stanford.edu/class/archive/cs/cs109/cs109.1166/stuff/titanic.csv')"
      ],
      "execution_count": 24,
      "outputs": []
    },
    {
      "cell_type": "code",
      "metadata": {
        "colab": {
          "base_uri": "https://localhost:8080/"
        },
        "id": "wrF0Vs1Pb2p0",
        "outputId": "00dc0233-8573-474b-9592-5051d6bd8dc4"
      },
      "source": [
        "pd.options.display.max_rows = 65\n",
        "data1=data[(data['Survived']==1)&(data['Age']<18)]['Name']\n",
        "print('Количество выживших детей = ',data1.count())\n",
        "print(data1)"
      ],
      "execution_count": 25,
      "outputs": [
        {
          "output_type": "stream",
          "name": "stdout",
          "text": [
            "Количество выживших детей =  65\n",
            "9                     Mrs. Nicholas (Adele Achem) Nasser\n",
            "10                        Miss. Marguerite Rut Sandstrom\n",
            "22                                    Miss. Anna McGowan\n",
            "39                            Miss. Jamila Nicola-Yarred\n",
            "42               Miss. Simonne Marie Anne Andree Laroche\n",
            "57                           Miss. Constance Mirium West\n",
            "64                               Master. Gerios Moubarek\n",
            "67                        Miss. Erna Alexandra Andersson\n",
            "77                          Master. Alden Gates Caldwell\n",
            "83                                    Miss. Bertha Ilett\n",
            "124                          Master. Elias Nicola-Yarred\n",
            "127                                     Miss. Anna Peter\n",
            "155                              Miss. Katherine Gilnagh\n",
            "164                 Master. Frank John William Goldsmith\n",
            "171                          Miss. Eleanor Ileen Johnson\n",
            "182                             Master. Richard F Becker\n",
            "183                   Miss. Luise Gretchen Kink-Heilmann\n",
            "192                            Master. Michel M Navratil\n",
            "207                                     Miss. Helen Carr\n",
            "219                        Mr. Victor Francis Sunderland\n",
            "232                        Miss. Lillian Gertrud Asplund\n",
            "236                               Miss. Marjorie Collyer\n",
            "259                     Master. Edvin Rojj Felix Asplund\n",
            "303                        Master. Hudson Trevor Allison\n",
            "305    Mrs. Victor de Satode (Maria Josefa Perez de S...\n",
            "327                          Miss. Jean Gertrude Hippach\n",
            "338                        Master. Edmond Roger Navratil\n",
            "346                          Master. William Loch Coutts\n",
            "379                                    Miss. Maria Nakid\n",
            "387                                 Miss. Bertha Lehmann\n",
            "405                        Master. William Rowe Richards\n",
            "432                             Miss. Lucile Polk Carter\n",
            "442                             Master. Washington Dodge\n",
            "443                     Miss. Madeleine Violet Mellinger\n",
            "445                        Miss. Marie Catherine Baclini\n",
            "466                         Miss. Helene Barbara Baclini\n",
            "476                              Miss. Hildur E Hirvonen\n",
            "486                           Master. Eden Leslie Coutts\n",
            "501                                 Miss. Roberta Maioni\n",
            "527                              Miss. Phyllis May Quick\n",
            "532                                Miss. Eva Miriam Hart\n",
            "546                        Master. John Morgan Jr Davies\n",
            "547                           Mr. John Borland Jr Thayer\n",
            "615                           Miss. Marion Louise Becker\n",
            "641                                Miss. Eugenie Baclini\n",
            "650                                 Miss. Hanora O'Leary\n",
            "686                     Miss. Georgette Alexandra Madill\n",
            "688                                    Miss. Manca Karun\n",
            "706                        Master. Halim Gonios Moubarek\n",
            "716                            Miss. Annie Jessie Harper\n",
            "746                                     Miss. Joan Wells\n",
            "747                                   Master. Meier Moor\n",
            "751                             Master. Viljo Hamalainen\n",
            "773                         Miss. Virginia Ethel Emanuel\n",
            "776                                  Miss. Banoura Ayoub\n",
            "777             Mrs. Albert Adrian (Vera Gillespie) Dick\n",
            "784                            Master. Bertram Vere Dean\n",
            "798                   Master. William Thornton II Carter\n",
            "799                       Master. Assad Alexander Thomas\n",
            "823                                 Master. Andre Mallet\n",
            "826               Mrs. Antoni (Selini Alexander) Yasbeck\n",
            "827                       Master. George Sibley Richards\n",
            "849                             Miss. Mary Conover Lines\n",
            "865                       Master. Harold Theodor Johnson\n",
            "871                             Miss. Adele Kiamie Najib\n",
            "Name: Name, dtype: object\n"
          ]
        }
      ]
    }
  ]
}