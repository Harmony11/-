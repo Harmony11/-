{
  "nbformat": 4,
  "nbformat_minor": 0,
  "metadata": {
    "colab": {
      "name": "ДЗ 1.ipynb",
      "provenance": [],
      "collapsed_sections": []
    },
    "kernelspec": {
      "name": "python3",
      "display_name": "Python 3"
    },
    "language_info": {
      "name": "python"
    }
  },
  "cells": [
    {
      "cell_type": "markdown",
      "metadata": {
        "id": "rc8zNLBfKtd4"
      },
      "source": [
        "Задача 1\n",
        "Создайте переменную a = 10, возвести значение в 3 степень и найти остаток от деления на 3."
      ]
    },
    {
      "cell_type": "code",
      "metadata": {
        "colab": {
          "base_uri": "https://localhost:8080/"
        },
        "id": "RZDNnn61Kvx_",
        "outputId": "edc46b4a-1ae8-4345-810c-d27d4d71380b"
      },
      "source": [
        "a=10\n",
        "(a**3) % 3"
      ],
      "execution_count": 1,
      "outputs": [
        {
          "output_type": "execute_result",
          "data": {
            "text/plain": [
              "1"
            ]
          },
          "metadata": {},
          "execution_count": 1
        }
      ]
    },
    {
      "cell_type": "markdown",
      "metadata": {
        "id": "TzJPadS6K0s5"
      },
      "source": [
        "Задача 2\n",
        "Найдите площадь круга с радиусом 1.23456.\n",
        "\n",
        "(Считаем π = 3.14)"
      ]
    },
    {
      "cell_type": "code",
      "metadata": {
        "colab": {
          "base_uri": "https://localhost:8080/"
        },
        "id": "sU2jcJeYK43Z",
        "outputId": "cb4fb08c-5162-4075-98aa-699289ca53fe"
      },
      "source": [
        "pi=3.14\n",
        "r=1.23456\n",
        "pi*r**2"
      ],
      "execution_count": 2,
      "outputs": [
        {
          "output_type": "execute_result",
          "data": {
            "text/plain": [
              "4.785794555904"
            ]
          },
          "metadata": {},
          "execution_count": 2
        }
      ]
    },
    {
      "cell_type": "markdown",
      "metadata": {
        "id": "6iwyV7ScK5j7"
      },
      "source": [
        "Задача 3\n",
        "Найдите, истинно ли, что 2 в 10 степени больше 1000 при условии, что 4 в 7й степени меньше 8 в 5й."
      ]
    },
    {
      "cell_type": "code",
      "metadata": {
        "colab": {
          "base_uri": "https://localhost:8080/"
        },
        "id": "L1GToX8IK89t",
        "outputId": "bb653adb-260b-49b8-dce9-2ee5a28323e7"
      },
      "source": [
        "(2**10 > 1000) and (4**7 < 8**5)"
      ],
      "execution_count": 3,
      "outputs": [
        {
          "output_type": "execute_result",
          "data": {
            "text/plain": [
              "True"
            ]
          },
          "metadata": {},
          "execution_count": 3
        }
      ]
    },
    {
      "cell_type": "markdown",
      "metadata": {
        "id": "z7sj-BktK9cn"
      },
      "source": [
        "Задача 4\n",
        "Мы принимаем целое число на ввод с клавиатуры (код предоставлен), вывести \"цена выше рынка\", если число выше 1200, \"цена ниже рыночной\", если число меньше 800 и \"все ок\" в остальных случаях."
      ]
    },
    {
      "cell_type": "code",
      "metadata": {
        "colab": {
          "base_uri": "https://localhost:8080/"
        },
        "id": "pD8y3cj2LAwk",
        "outputId": "6154bc56-ac58-4de6-a7a6-2281601eff57"
      },
      "source": [
        "price = int(input('Введите цену товара: '))\n",
        "if price> 1200:\n",
        "    print(\"цена выше рынка\")\n",
        "elif price<800:\n",
        "    print(\"цена ниже рыночной\")\n",
        "else:\n",
        "    print(\"все ок\")"
      ],
      "execution_count": 4,
      "outputs": [
        {
          "output_type": "stream",
          "name": "stdout",
          "text": [
            "Введите цену товара: 1300\n",
            "цена выше рынка\n"
          ]
        }
      ]
    },
    {
      "cell_type": "markdown",
      "metadata": {
        "id": "zwGPXNVrLBwm"
      },
      "source": [
        "Задача 5\n",
        "Распечатайте с 4 по 8 символ фразы \"Привет мир!\" приведенные к верхнему регистру."
      ]
    },
    {
      "cell_type": "code",
      "metadata": {
        "colab": {
          "base_uri": "https://localhost:8080/"
        },
        "id": "by3bsNCwLFua",
        "outputId": "da908b90-e465-4d54-9a03-2cd1c37b640c"
      },
      "source": [
        "st=\"Привет мир!\".upper()\n",
        "print(st[3:8])"
      ],
      "execution_count": 6,
      "outputs": [
        {
          "output_type": "stream",
          "name": "stdout",
          "text": [
            "ВЕТ М\n"
          ]
        }
      ]
    },
    {
      "cell_type": "markdown",
      "metadata": {
        "id": "oreZE14iLGIB"
      },
      "source": [
        "Задача 6\n",
        "Создайте переменную, которая хранит описание этой задачи как строку, разделите слова по пробелам и приведите к нижнему регистру."
      ]
    },
    {
      "cell_type": "code",
      "metadata": {
        "colab": {
          "base_uri": "https://localhost:8080/"
        },
        "id": "aJOHGasMLJuF",
        "outputId": "1f781472-f08e-4440-f4ab-e79d8e0e57d4"
      },
      "source": [
        "st1='Создайте переменную, которая хранит описание этой задачи как строку, разделите слова по пробелам и приведите к нижнему регистру.'\n",
        "st1.lower().split()"
      ],
      "execution_count": 7,
      "outputs": [
        {
          "output_type": "execute_result",
          "data": {
            "text/plain": [
              "['создайте',\n",
              " 'переменную,',\n",
              " 'которая',\n",
              " 'хранит',\n",
              " 'описание',\n",
              " 'этой',\n",
              " 'задачи',\n",
              " 'как',\n",
              " 'строку,',\n",
              " 'разделите',\n",
              " 'слова',\n",
              " 'по',\n",
              " 'пробелам',\n",
              " 'и',\n",
              " 'приведите',\n",
              " 'к',\n",
              " 'нижнему',\n",
              " 'регистру.']"
            ]
          },
          "metadata": {},
          "execution_count": 7
        }
      ]
    },
    {
      "cell_type": "markdown",
      "metadata": {
        "id": "XZd819ppLKOT"
      },
      "source": [
        "Задание 7\n",
        "Напишите код, который проверяет, является ли переменная x строкой, и если да, то если в строке больше одного слова (слово--последовательность подряд идущих символов без пробелов), то выводит на экран количество слов в этой строке и сами слова в алфавитном порядке."
      ]
    },
    {
      "cell_type": "code",
      "metadata": {
        "colab": {
          "base_uri": "https://localhost:8080/"
        },
        "id": "KmvaUSbpLOCv",
        "outputId": "a894ea84-ecac-44ed-c50c-2b589600316a"
      },
      "source": [
        "x = 'z hello world'\n",
        "# В ходе проверки я могу в вести в переменную любой другой текст.\n",
        "# Или не текст.\n",
        "if isinstance(x, str):\n",
        "    if len(x.split())>1:\n",
        "         print(len(x.split()))\n",
        "         print(sorted(x.split()))"
      ],
      "execution_count": 8,
      "outputs": [
        {
          "output_type": "stream",
          "name": "stdout",
          "text": [
            "3\n",
            "['hello', 'world', 'z']\n"
          ]
        }
      ]
    },
    {
      "cell_type": "markdown",
      "metadata": {
        "id": "X_llVqU6LOZp"
      },
      "source": [
        "Задание 8\n",
        "Напишите код, который все элементы массива x с нечетными индексами переставит в обратном порядке.\n",
        "\n",
        "Т.е. если x = [0, 1, 2, 3, 4, 5, 6, 7, 8, 9], то код должен получать [0, 9, 2, 7, 4, 5, 6, 3, 8, 1]"
      ]
    },
    {
      "cell_type": "code",
      "metadata": {
        "colab": {
          "base_uri": "https://localhost:8080/"
        },
        "id": "qbmQZXCmLTCy",
        "outputId": "f8b4a651-7618-4e13-8cef-7487540ee1b6"
      },
      "source": [
        "x = [0, 1, 2, 3, 4, 5, 6, 7, 8, 9]\n",
        "\n",
        "[sim for p in list(zip(x[0:10:2], sorted(x[1:11:2],reverse=True))) for sim in p]"
      ],
      "execution_count": 10,
      "outputs": [
        {
          "output_type": "execute_result",
          "data": {
            "text/plain": [
              "[0, 9, 2, 7, 4, 5, 6, 3, 8, 1]"
            ]
          },
          "metadata": {},
          "execution_count": 10
        }
      ]
    },
    {
      "cell_type": "markdown",
      "metadata": {
        "id": "YtlzdxPsLTXb"
      },
      "source": [
        "Задание 9\n",
        "Напишите цикл, который выводит все числа от 0 до 500, делящиеся на 7, если в них есть цифра 8.\n",
        "\n",
        "Подсказка: переменную типа int можно привести к типу str:\n",
        "\n",
        "x = 5\n",
        "y = str(x)"
      ]
    },
    {
      "cell_type": "code",
      "metadata": {
        "colab": {
          "base_uri": "https://localhost:8080/"
        },
        "id": "2o2_PErlLYtT",
        "outputId": "b6e505d8-8498-4bfa-a634-dd0b8e3c0721"
      },
      "source": [
        "for i in range(500):\n",
        "  if i%7==0:\n",
        "      if str(i).count(\"8\")>=1:\n",
        "          print(i)"
      ],
      "execution_count": 11,
      "outputs": [
        {
          "output_type": "stream",
          "name": "stdout",
          "text": [
            "28\n",
            "84\n",
            "98\n",
            "168\n",
            "182\n",
            "189\n",
            "238\n",
            "280\n",
            "287\n",
            "308\n",
            "378\n",
            "385\n",
            "448\n",
            "483\n"
          ]
        }
      ]
    },
    {
      "cell_type": "markdown",
      "metadata": {
        "id": "ClUPkbfPMomP"
      },
      "source": [
        "Задание 10\n",
        "Создайте список a, состоящий из каких-то элементов.\n",
        "Создайте список b такого же размера, как a, состоящий из каких-то элементов.\n",
        "Выведите нумерованный список пар из элементов списков a и b."
      ]
    },
    {
      "cell_type": "code",
      "metadata": {
        "colab": {
          "base_uri": "https://localhost:8080/"
        },
        "id": "HaFGthF3MpsB",
        "outputId": "3aad1eb2-d93f-40c1-de4b-350e3ed53cfb"
      },
      "source": [
        "a=['x','y','z']\n",
        "b=['123','456','789']\n",
        "list(zip(a, b))"
      ],
      "execution_count": 12,
      "outputs": [
        {
          "output_type": "execute_result",
          "data": {
            "text/plain": [
              "[('x', '123'), ('y', '456'), ('z', '789')]"
            ]
          },
          "metadata": {},
          "execution_count": 12
        }
      ]
    },
    {
      "cell_type": "markdown",
      "metadata": {
        "id": "lhS1TgUFMqV0"
      },
      "source": [
        "Задание 11\n",
        "Дан массив строк mas. Одной строкой создайте словарь, в котором по ключу строки будет записана пара (кортеж длины 2) (индекс строки в массиве mas, длина строки)"
      ]
    },
    {
      "cell_type": "code",
      "metadata": {
        "colab": {
          "base_uri": "https://localhost:8080/"
        },
        "id": "X27IoQi8NEwc",
        "outputId": "65bf2354-c63d-4834-d4ab-9473121165fa"
      },
      "source": [
        "mas=['abc','iklmn','yyyyyyyyy']\n",
        "d={}\n",
        "for i in range(len(mas)): d[mas[i]]=[i,len(mas[i])]\n",
        "print(d)"
      ],
      "execution_count": 13,
      "outputs": [
        {
          "output_type": "stream",
          "name": "stdout",
          "text": [
            "{'abc': [0, 3], 'iklmn': [1, 5], 'yyyyyyyyy': [2, 9]}\n"
          ]
        }
      ]
    },
    {
      "cell_type": "markdown",
      "metadata": {
        "id": "Lsh449TiNI2B"
      },
      "source": [
        "Задание 12\n",
        "Релизовать функцию, которая возвращает сумму всех позиционных и именованных аргументов."
      ]
    },
    {
      "cell_type": "code",
      "metadata": {
        "colab": {
          "base_uri": "https://localhost:8080/"
        },
        "id": "lKIrGO7uNJth",
        "outputId": "4f497b31-b898-4679-d7dd-3260fc38ab70"
      },
      "source": [
        "def func(x,y,z,a=4, b=5):\n",
        "    return x + y + z +a + b\n",
        "\n",
        "print(func(1, 2, 3, a=4, b=5))"
      ],
      "execution_count": 14,
      "outputs": [
        {
          "output_type": "stream",
          "name": "stdout",
          "text": [
            "15\n"
          ]
        }
      ]
    },
    {
      "cell_type": "markdown",
      "metadata": {
        "id": "FhC5vCWXNTIb"
      },
      "source": [
        "Задание 13\n",
        "Реализовать функцию, которая сохраняет в 2 глобальные переменные:\n",
        "\n",
        "сумму всех позиционных аргументов - релизовать через lambda;\n",
        "название всех именованных аргументов в виде списка."
      ]
    },
    {
      "cell_type": "code",
      "metadata": {
        "colab": {
          "base_uri": "https://localhost:8080/"
        },
        "id": "KhzxkgWHNUCF",
        "outputId": "3d233271-5b33-4a88-854d-d5ff5271e2fc"
      },
      "source": [
        "summ = 0\n",
        "names = []\n",
        "\n",
        "def another_func(x, y, z, **kwargs):\n",
        "    global summ\n",
        "    ssss = lambda k, l, m: k + l + m\n",
        "    summ= ssss(x,y,z)\n",
        "    global names\n",
        "    names=list(kwargs.keys())\n",
        "    return summ, names\n",
        "\n",
        "another_func(1, 2, 3, a=4, b=5)\n",
        "\n",
        "print(f'Cумма {summ}, названия {names}')"
      ],
      "execution_count": 15,
      "outputs": [
        {
          "output_type": "stream",
          "name": "stdout",
          "text": [
            "Cумма 6, названия ['a', 'b']\n"
          ]
        }
      ]
    },
    {
      "cell_type": "markdown",
      "metadata": {
        "id": "pPJNLCrLNanu"
      },
      "source": [
        "Задание 14\n",
        "Реализовать класс с 2 функциями:\n",
        "\n",
        "Первая функция копирует функционал задачи №13, но сохраняет переменные в области видимости класса;\n",
        "Вторая функция отображает на экран сумму и названия именованных аргументов."
      ]
    },
    {
      "cell_type": "code",
      "metadata": {
        "colab": {
          "base_uri": "https://localhost:8080/"
        },
        "id": "zQMGg8__NbrO",
        "outputId": "e124d3c1-62af-4395-c6d9-e70f5e62771a"
      },
      "source": [
        "class Solution():\n",
        "    def __init__(self):\n",
        "        self.summ1 = 0\n",
        "        self.names1= []\n",
        "\n",
        "    def another_func(self, x, y, z, **kwargs):\n",
        "        ssss = lambda k, l, m: k + l + m\n",
        "        self.summ1 = ssss(x, y, z)\n",
        "        self.names1=list(kwargs.keys())\n",
        "        #print(f'Cумма {summ1}, названия {names1}')\n",
        "             \n",
        "    def print_args_kwargs(self):\n",
        "        summ1=self.summ1\n",
        "        names1=self.names1\n",
        "        return print(f'Cумма {summ1}, названия {names1}')\n",
        "\n",
        "class_obj = Solution()\n",
        "class_obj.another_func(1, 2, 3, a=4, b=5)\n",
        "class_obj.print_args_kwargs()"
      ],
      "execution_count": 16,
      "outputs": [
        {
          "output_type": "stream",
          "name": "stdout",
          "text": [
            "Cумма 6, названия ['a', 'b']\n"
          ]
        }
      ]
    }
  ]
}